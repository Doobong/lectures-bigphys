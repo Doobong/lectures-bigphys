{
  "nbformat": 4,
  "nbformat_minor": 0,
  "metadata": {
    "colab": {
      "name": "Untitled6.ipynb",
      "provenance": [],
      "authorship_tag": "ABX9TyNRPtzFtlLsPW4zXlVVcOFX",
      "include_colab_link": true
    },
    "kernelspec": {
      "name": "python3",
      "display_name": "Python 3"
    }
  },
  "cells": [
    {
      "cell_type": "markdown",
      "metadata": {
        "id": "view-in-github",
        "colab_type": "text"
      },
      "source": [
        "<a href=\"https://colab.research.google.com/github/jhgoh/lectures-bigphys/blob/master/01.jhgoh.ipynb\" target=\"_parent\"><img src=\"https://colab.research.google.com/assets/colab-badge.svg\" alt=\"Open In Colab\"/></a>"
      ]
    },
    {
      "cell_type": "markdown",
      "metadata": {
        "id": "6y_Fj7TW-gHF",
        "colab_type": "text"
      },
      "source": [
        "# 빅데이터 물리학 첫번째 예제\n",
        "\n",
        "이 노트북은 빅데이터 물리학 예제입니다. 파이썬 기초를 하겠습니다."
      ]
    },
    {
      "cell_type": "code",
      "metadata": {
        "id": "KwwCarU86qNk",
        "colab_type": "code",
        "colab": {
          "base_uri": "https://localhost:8080/",
          "height": 35
        },
        "outputId": "3f673275-90c1-41b4-a984-9c1aad15278a"
      },
      "source": [
        "print(\"Hello World\", 1+2, 2, \"A\")"
      ],
      "execution_count": 18,
      "outputs": [
        {
          "output_type": "stream",
          "text": [
            "Hello World 3 2 A\n"
          ],
          "name": "stdout"
        }
      ]
    },
    {
      "cell_type": "code",
      "metadata": {
        "id": "TQOTeyjx61a6",
        "colab_type": "code",
        "colab": {
          "base_uri": "https://localhost:8080/",
          "height": 52
        },
        "outputId": "01489956-a16a-44e1-98a7-d6164ae5535d"
      },
      "source": [
        "from math import *\n",
        "\n",
        "print(sin(1), cos(1))\n",
        "print(sin(1)*sin(1) + cos(1)*cos(1))"
      ],
      "execution_count": 21,
      "outputs": [
        {
          "output_type": "stream",
          "text": [
            "0.8414709848078965 0.5403023058681398\n",
            "1.0\n"
          ],
          "name": "stdout"
        }
      ]
    },
    {
      "cell_type": "code",
      "metadata": {
        "id": "royG4sOF_JTy",
        "colab_type": "code",
        "colab": {
          "base_uri": "https://localhost:8080/",
          "height": 250
        },
        "outputId": "b516e98e-41db-4705-b58b-459123a54d42"
      },
      "source": [
        "help(print)"
      ],
      "execution_count": 31,
      "outputs": [
        {
          "output_type": "stream",
          "text": [
            "Help on built-in function print in module builtins:\n",
            "\n",
            "print(...)\n",
            "    print(value, ..., sep=' ', end='\\n', file=sys.stdout, flush=False)\n",
            "    \n",
            "    Prints the values to a stream, or to sys.stdout by default.\n",
            "    Optional keyword arguments:\n",
            "    file:  a file-like object (stream); defaults to the current sys.stdout.\n",
            "    sep:   string inserted between values, default a space.\n",
            "    end:   string appended after the last value, default a newline.\n",
            "    flush: whether to forcibly flush the stream.\n",
            "\n"
          ],
          "name": "stdout"
        }
      ]
    },
    {
      "cell_type": "code",
      "metadata": {
        "id": "CHerv84_BIJB",
        "colab_type": "code",
        "colab": {
          "base_uri": "https://localhost:8080/",
          "height": 35
        },
        "outputId": "7094e066-1f30-4b16-ce24-e23ab55a3540"
      },
      "source": [
        "print(1,2,3, sep=\"--_--\", end=\"ENDOFLINE\")"
      ],
      "execution_count": 36,
      "outputs": [
        {
          "output_type": "stream",
          "text": [
            "1--_--2--_--3ENDOFLINE"
          ],
          "name": "stdout"
        }
      ]
    },
    {
      "cell_type": "code",
      "metadata": {
        "id": "j--EUubFCzha",
        "colab_type": "code",
        "colab": {}
      },
      "source": [
        "m = 1 # this is mass of the particle\n",
        "t = 0.0 # time\n",
        "x = 0.0 # position\n",
        "v = 1.0 # velocity\n",
        "a = -9.8 # accel"
      ],
      "execution_count": 71,
      "outputs": []
    },
    {
      "cell_type": "code",
      "metadata": {
        "id": "_Od6_xbHDmPu",
        "colab_type": "code",
        "colab": {}
      },
      "source": [
        "dt = 0.1\n",
        "tlist = [t,]\n",
        "xlist = [x,]\n",
        "vlist = [v,]\n",
        "for i in range(10):\n",
        "  t = t + dt\n",
        "  x = x + v*dt\n",
        "  v = v + a*dt\n",
        "\n",
        "  tlist.append(t)\n",
        "  xlist.append(x)\n",
        "  vlist.append(v)"
      ],
      "execution_count": 72,
      "outputs": []
    },
    {
      "cell_type": "code",
      "metadata": {
        "id": "51Oh13yOD2lo",
        "colab_type": "code",
        "colab": {
          "base_uri": "https://localhost:8080/",
          "height": 55
        },
        "outputId": "41f787e0-bf7a-4b86-f2ed-d463a4653dba"
      },
      "source": [
        "print(tlist, xlist, vlist)"
      ],
      "execution_count": 76,
      "outputs": [
        {
          "output_type": "stream",
          "text": [
            "[0.0, 0.1, 0.2, 0.30000000000000004, 0.4, 0.5, 0.6, 0.7, 0.7999999999999999, 0.8999999999999999, 0.9999999999999999] [0.0, 0.1, 0.102, 0.005999999999999964, -0.1880000000000001, -0.48000000000000015, -0.8700000000000002, -1.3580000000000003, -1.9440000000000004, -2.6280000000000006, -3.410000000000001] [1.0, 0.019999999999999907, -0.9600000000000002, -1.9400000000000004, -2.9200000000000004, -3.9000000000000004, -4.880000000000001, -5.860000000000001, -6.840000000000002, -7.820000000000002, -8.800000000000002]\n"
          ],
          "name": "stdout"
        }
      ]
    },
    {
      "cell_type": "code",
      "metadata": {
        "id": "2zq2SqauD3et",
        "colab_type": "code",
        "colab": {}
      },
      "source": [
        "import matplotlib.pyplot as plt\n"
      ],
      "execution_count": 85,
      "outputs": []
    },
    {
      "cell_type": "code",
      "metadata": {
        "id": "XZarSQ5PJJpS",
        "colab_type": "code",
        "colab": {}
      },
      "source": [
        "plt.plot([0,1]);\n"
      ],
      "execution_count": 90,
      "outputs": []
    },
    {
      "cell_type": "code",
      "metadata": {
        "id": "ExO0MsekJMDF",
        "colab_type": "code",
        "colab": {}
      },
      "source": [
        ""
      ],
      "execution_count": null,
      "outputs": []
    }
  ]
}