{
  "nbformat": 4,
  "nbformat_minor": 0,
  "metadata": {
    "colab": {
      "name": "01-LeeDooBong",
      "provenance": [],
      "collapsed_sections": [],
      "authorship_tag": "ABX9TyPvnUsDCFu1JhU/FjAuo0DH",
      "include_colab_link": true
    },
    "kernelspec": {
      "name": "python3",
      "display_name": "Python 3"
    }
  },
  "cells": [
    {
      "cell_type": "markdown",
      "metadata": {
        "id": "view-in-github",
        "colab_type": "text"
      },
      "source": [
        "<a href=\"https://colab.research.google.com/github/Doobong/lectures-bigphys/blob/master/01_LeeDooBong.ipynb\" target=\"_parent\"><img src=\"https://colab.research.google.com/assets/colab-badge.svg\" alt=\"Open In Colab\"/></a>"
      ]
    },
    {
      "cell_type": "code",
      "metadata": {
        "id": "XDezWSoxmpIe",
        "colab_type": "code",
        "colab": {}
      },
      "source": [
        "import matplotlib.pyplot as plt\n",
        "import numpy as np\n",
        "\n"
      ],
      "execution_count": 2,
      "outputs": []
    },
    {
      "cell_type": "code",
      "metadata": {
        "id": "kvT2DzeGmqpL",
        "colab_type": "code",
        "colab": {}
      },
      "source": [
        "#질량\n",
        "m=1\n",
        "#용수철상수\n",
        "k=1\n",
        "#길이\n",
        "L=1\n",
        "#당긴 길이\n",
        "d=1"
      ],
      "execution_count": 3,
      "outputs": []
    },
    {
      "cell_type": "code",
      "metadata": {
        "id": "m9FNiihaovra",
        "colab_type": "code",
        "colab": {}
      },
      "source": [
        "# 미분\n",
        "def numerical_diff(f,x):\n",
        "  h=0.0001\n",
        "  return (f(x+h)-f(x))/h"
      ],
      "execution_count": 4,
      "outputs": []
    },
    {
      "cell_type": "code",
      "metadata": {
        "id": "isdpW0oQ1Vae",
        "colab_type": "code",
        "colab": {
          "base_uri": "https://localhost:8080/",
          "height": 197
        },
        "outputId": "82c589ec-d363-4378-f1f7-0c9f12a87446"
      },
      "source": [
        "x = 0 \n",
        "for i in range(10):\n",
        "  x+=i\n",
        "  print(x)"
      ],
      "execution_count": 5,
      "outputs": [
        {
          "output_type": "stream",
          "text": [
            "0\n",
            "1\n",
            "3\n",
            "6\n",
            "10\n",
            "15\n",
            "21\n",
            "28\n",
            "36\n",
            "45\n"
          ],
          "name": "stdout"
        }
      ]
    },
    {
      "cell_type": "code",
      "metadata": {
        "id": "kGHmdF6s1dZZ",
        "colab_type": "code",
        "colab": {}
      },
      "source": [
        ""
      ],
      "execution_count": 5,
      "outputs": []
    }
  ]
}