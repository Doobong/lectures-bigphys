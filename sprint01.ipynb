{
  "nbformat": 4,
  "nbformat_minor": 0,
  "metadata": {
    "colab": {
      "name": "Untitled2.ipynb",
      "provenance": [],
      "collapsed_sections": [],
      "authorship_tag": "ABX9TyPcRgQOokCC2OOBhbceNeDf",
      "include_colab_link": true
    },
    "kernelspec": {
      "name": "python3",
      "display_name": "Python 3"
    }
  },
  "cells": [
    {
      "cell_type": "markdown",
      "metadata": {
        "id": "view-in-github",
        "colab_type": "text"
      },
      "source": [
        "<a href=\"https://colab.research.google.com/github/dustyattenborough/lectures-bigphys/blob/master/sprint01.ipynb\" target=\"_parent\"><img src=\"https://colab.research.google.com/assets/colab-badge.svg\" alt=\"Open In Colab\"/></a>"
      ]
    },
    {
      "cell_type": "markdown",
      "metadata": {
        "id": "xrxAJXBy-oi9",
        "colab_type": "text"
      },
      "source": [
        "빅데이터 물리학 첫번째 예제\n",
        "\n",
        "이 노트북은 빅데이터 물리학 예제입니다. 파이선기초를 하겠습니다."
      ]
    },
    {
      "cell_type": "code",
      "metadata": {
        "id": "air0Gin3-qNz",
        "colab_type": "code",
        "colab": {}
      },
      "source": [
        "#빅데이터 물리학 첫번쨰 예제\n"
      ],
      "execution_count": 15,
      "outputs": []
    },
    {
      "cell_type": "code",
      "metadata": {
        "id": "1Mln6KUTdw4M",
        "colab_type": "code",
        "colab": {}
      },
      "source": [
        "import numpy as np\n",
        "import matplotlib.pyplot as plt\n",
        "import math\n",
        "import random\n",
        "import time\n",
        "from google.colab import files\n",
        "import os\n",
        "import torch\n",
        "from math import *"
      ],
      "execution_count": 23,
      "outputs": []
    },
    {
      "cell_type": "code",
      "metadata": {
        "id": "o5T8QLdYeEpS",
        "colab_type": "code",
        "colab": {
          "base_uri": "https://localhost:8080/",
          "height": 70
        },
        "outputId": "baadf0ab-4bce-4541-9c52-7d83854c4422"
      },
      "source": [
        "\n",
        "x = torch.randn(3,5)\n",
        "\n",
        "print(x)"
      ],
      "execution_count": 17,
      "outputs": [
        {
          "output_type": "stream",
          "text": [
            "tensor([[ 0.8114,  0.3012, -0.6952, -1.4169, -1.1106],\n",
            "        [ 0.1672,  0.1858,  0.2736, -0.2251,  1.8881],\n",
            "        [ 0.1023,  1.2755, -0.6953,  0.2699,  0.9411]])\n"
          ],
          "name": "stdout"
        }
      ]
    },
    {
      "cell_type": "code",
      "metadata": {
        "id": "EPZ4LORWhZJj",
        "colab_type": "code",
        "colab": {
          "base_uri": "https://localhost:8080/",
          "height": 368
        },
        "outputId": "34b9087b-4449-4438-c2f0-61e4f015c378"
      },
      "source": [
        "mass1 = 1\n",
        "k1 = 1\n",
        "startP=10\n",
        "x1 = [startP+3]\n",
        "v1 = [0]\n",
        "vhf1=[]\n",
        "a1 = [0]\n",
        "m1=1 # this is mass of particle\n",
        "dt = 0.001\n",
        "t=0.0\n",
        "v=1.0\n",
        "x=0.0\n",
        "m=1\n",
        "a=0\n",
        "time1=[0]\n",
        "Phi=math.pi\n",
        "\n",
        "for i in range(10000):\n",
        "  a1.append(SHOforce((x1[i]-startP),k1)/m1)\n",
        "  vhf1.append(v1[i]+a1[i]*(dt/2))\n",
        "  x1.append(x1[i]+vhf1[i]*dt)\n",
        "  v1.append(vhf1[i]+a1[i+1]*(dt/2))\n",
        "  time1.append(time1[i]+dt)\n",
        "  \n",
        "\n",
        "\n",
        "figure=plt.figure(figsize=(5,5))\n",
        "plt.plot(time1,x1,\"o-\")\n",
        "plt.xlabel('time')\n",
        "plt.ylabel('x1')\n",
        "plt.grid(True)\n",
        "\n",
        "plt.title(\"sho\")"
      ],
      "execution_count": 142,
      "outputs": [
        {
          "output_type": "execute_result",
          "data": {
            "text/plain": [
              "Text(0.5, 1.0, 'sho')"
            ]
          },
          "metadata": {
            "tags": []
          },
          "execution_count": 142
        },
        {
          "output_type": "display_data",
          "data": {
            "image/png": "[encoded data removed]",
            "text/plain": [
              "<Figure size 360x360 with 1 Axes>"
            ]
          },
          "metadata": {
            "tags": [],
            "needs_background": "light"
          }
        }
      ]
    },
    {
      "cell_type": "code",
      "metadata": {
        "id": "XE5vKNDkDvch",
        "colab_type": "code",
        "colab": {
          "base_uri": "https://localhost:8080/",
          "height": 34
        },
        "outputId": "c234b564-e9bb-43be-f947-1544ab924514"
      },
      "source": [
        "x=x+v*dt\n",
        "v=v+a*dt\n",
        "\n",
        "print(x,v)"
      ],
      "execution_count": 102,
      "outputs": [
        {
          "output_type": "stream",
          "text": [
            "0.01 1.0\n"
          ],
          "name": "stdout"
        }
      ]
    },
    {
      "cell_type": "code",
      "metadata": {
        "id": "PS6UQ3laDvPz",
        "colab_type": "code",
        "colab": {}
      },
      "source": [
        "\n"
      ],
      "execution_count": 102,
      "outputs": []
    },
    {
      "cell_type": "code",
      "metadata": {
        "id": "nH77qZhjnqs0",
        "colab_type": "code",
        "colab": {}
      },
      "source": [
        "def SHOforce(x,k):\n",
        "  return -k*x"
      ],
      "execution_count": 103,
      "outputs": []
    },
    {
      "cell_type": "code",
      "metadata": {
        "id": "eP5G1Suh8qdp",
        "colab_type": "code",
        "colab": {
          "base_uri": "https://localhost:8080/",
          "height": 368
        },
        "outputId": "67e6df06-a000-4589-e2bb-929c279221c0"
      },
      "source": [
        "\n"
      ],
      "execution_count": 139,
      "outputs": [
        {
          "output_type": "execute_result",
          "data": {
            "text/plain": [
              "Text(0.5, 1.0, 'sho')"
            ]
          },
          "metadata": {
            "tags": []
          },
          "execution_count": 139
        },
        {
          "output_type": "display_data",
          "data": {
            "image/png": "[encoded data removed]",
            "text/plain": [
              "<Figure size 360x360 with 1 Axes>"
            ]
          },
          "metadata": {
            "tags": [],
            "needs_background": "light"
          }
        }
      ]
    },
    {
      "cell_type": "code",
      "metadata": {
        "id": "apuNZTxzH2Lc",
        "colab_type": "code",
        "colab": {}
      },
      "source": [
        ""
      ],
      "execution_count": 113,
      "outputs": []
    },
    {
      "cell_type": "code",
      "metadata": {
        "id": "A0JBgsBp80pv",
        "colab_type": "code",
        "colab": {
          "base_uri": "https://localhost:8080/",
          "height": 368
        },
        "outputId": "808b14c3-9f41-4466-841c-84968dbed214"
      },
      "source": [
        ""
      ],
      "execution_count": 126,
      "outputs": [
        {
          "output_type": "execute_result",
          "data": {
            "text/plain": [
              "Text(0.5, 1.0, 'sho')"
            ]
          },
          "metadata": {
            "tags": []
          },
          "execution_count": 126
        },
        {
          "output_type": "display_data",
          "data": {
            "image/png": "[encoded data removed]",
            "text/plain": [
              "<Figure size 360x360 with 1 Axes>"
            ]
          },
          "metadata": {
            "tags": [],
            "needs_background": "light"
          }
        }
      ]
    },
    {
      "cell_type": "code",
      "metadata": {
        "id": "LKSL4Nb__X0M",
        "colab_type": "code",
        "colab": {
          "base_uri": "https://localhost:8080/",
          "height": 34
        },
        "outputId": "940d1fb0-b272-44c5-d5af-965a944d9b00"
      },
      "source": [
        "2*acos(0)\n"
      ],
      "execution_count": 34,
      "outputs": [
        {
          "output_type": "execute_result",
          "data": {
            "text/plain": [
              "3.141592653589793"
            ]
          },
          "metadata": {
            "tags": []
          },
          "execution_count": 34
        }
      ]
    },
    {
      "cell_type": "code",
      "metadata": {
        "id": "XQQO7A1bC2sb",
        "colab_type": "code",
        "colab": {
          "base_uri": "https://localhost:8080/",
          "height": 34
        },
        "outputId": "d401ea34-6a61-47a6-d9ee-31dbc60ef11d"
      },
      "source": [
        "print(1,2,3, sep = \" : \",end=\"  endofline\")"
      ],
      "execution_count": 49,
      "outputs": [
        {
          "output_type": "stream",
          "text": [
            "1 : 2 : 3  endofline"
          ],
          "name": "stdout"
        }
      ]
    },
    {
      "cell_type": "code",
      "metadata": {
        "id": "2Mt6FQsc_eqt",
        "colab_type": "code",
        "colab": {
          "base_uri": "https://localhost:8080/",
          "height": 34
        },
        "outputId": "56897898-c808-48df-812d-a5238da0d64d"
      },
      "source": [
        "if __name__=='__main__':\n",
        "  print(\"this is main\")"
      ],
      "execution_count": 27,
      "outputs": [
        {
          "output_type": "stream",
          "text": [
            "this is main\n"
          ],
          "name": "stdout"
        }
      ]
    },
    {
      "cell_type": "code",
      "metadata": {
        "id": "I-kPnmXIBtje",
        "colab_type": "code",
        "colab": {}
      },
      "source": [
        ""
      ],
      "execution_count": null,
      "outputs": []
    }
  ]
}