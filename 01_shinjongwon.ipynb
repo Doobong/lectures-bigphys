{
  "nbformat": 4,
  "nbformat_minor": 0,
  "metadata": {
    "colab": {
      "name": "01-shinjongwon.ipynb",
      "provenance": [],
      "authorship_tag": "ABX9TyPhIpGxsCq4HGA6PA6EBlh9",
      "include_colab_link": true
    },
    "kernelspec": {
      "name": "python3",
      "display_name": "Python 3"
    }
  },
  "cells": [
    {
      "cell_type": "markdown",
      "metadata": {
        "id": "view-in-github",
        "colab_type": "text"
      },
      "source": [
        "<a href=\"https://colab.research.google.com/github/eigen1907/lectures-bigphys/blob/master/01_shinjongwon.ipynb\" target=\"_parent\"><img src=\"https://colab.research.google.com/assets/colab-badge.svg\" alt=\"Open In Colab\"/></a>"
      ]
    },
    {
      "cell_type": "code",
      "metadata": {
        "id": "QJTcMTr-7oiF",
        "colab_type": "code",
        "colab": {
          "base_uri": "https://localhost:8080/",
          "height": 51
        },
        "outputId": "952aa1bd-11ff-47f3-e46b-ea9d49f6d2e6"
      },
      "source": [
        "class Student:\n",
        "  def __init__(self, name, age):\n",
        "    self.name = name\n",
        "    self.age = age\n",
        "\n",
        "shin = Student(\"신종원\", 25)\n",
        "\n",
        "print(shin.name)\n",
        "print(shin.age)"
      ],
      "execution_count": 2,
      "outputs": [
        {
          "output_type": "stream",
          "text": [
            "신종원\n",
            "25\n"
          ],
          "name": "stdout"
        }
      ]
    }
  ]
}